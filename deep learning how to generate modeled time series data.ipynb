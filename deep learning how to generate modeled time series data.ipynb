{
 "cells": [
  {
   "cell_type": "code",
   "execution_count": 3,
   "metadata": {},
   "outputs": [
    {
     "name": "stderr",
     "output_type": "stream",
     "text": [
      "C:\\Users\\hp\\programming\\lib\\site-packages\\ipykernel_launcher.py:13: FutureWarning: set_value is deprecated and will be removed in a future release. Please use .at[] or .iat[] accessors instead\n",
      "  del sys.path[0]\n"
     ]
    }
   ],
   "source": [
    "# generating time series data\n",
    "import pandas as pd\n",
    "import numpy as np\n",
    "seed=2016\n",
    "np.random.seed(seed)\n",
    "y_0 = 1\n",
    "alpha = -0.25\n",
    "beta = 0.95\n",
    "y = pd.Series(y_0)\n",
    "num = 10\n",
    "for i in range(num):\n",
    "    y_t=alpha+ (beta*y_0)+np.random.uniform(-1,1)\n",
    "    y =y.set_value(i,y_t)\n",
    "    y_0 = y_t\n",
    "    "
   ]
  },
  {
   "cell_type": "code",
   "execution_count": 4,
   "metadata": {},
   "outputs": [
    {
     "name": "stdout",
     "output_type": "stream",
     "text": [
      " Values of y are: \n",
      " 0    1.000000\n",
      "1    1.629219\n",
      "2    1.864309\n",
      "3    2.004397\n",
      "4    1.578358\n",
      "5    1.534571\n",
      "6    0.657570\n",
      "7    0.791785\n",
      "8    0.996448\n",
      "9    0.946840\n",
      "dtype: float64\n"
     ]
    }
   ],
   "source": [
    "#View the Simulated Time Series\n",
    "print (\" Values of y are: \\n\",y)"
   ]
  },
  {
   "cell_type": "code",
   "execution_count": 5,
   "metadata": {},
   "outputs": [
    {
     "data": {
      "text/plain": [
       "<Figure size 640x480 with 1 Axes>"
      ]
     },
     "metadata": {},
     "output_type": "display_data"
    }
   ],
   "source": [
    "import matplotlib.pyplot as plt\n",
    "plt.plot(y ,'r--', linewidth=5.0)\n",
    "plt.plot(y ,'bs', linewidth=5.0)\n",
    "plt.plot(y ,'g^', linewidth=5.0)\n",
    "plt.show()"
   ]
  },
  {
   "cell_type": "code",
   "execution_count": 17,
   "metadata": {},
   "outputs": [
    {
     "name": "stderr",
     "output_type": "stream",
     "text": [
      "C:\\Users\\hp\\programming\\lib\\site-packages\\ipykernel_launcher.py:13: FutureWarning: set_value is deprecated and will be removed in a future release. Please use .at[] or .iat[] accessors instead\n",
      "  del sys.path[0]\n"
     ]
    }
   ],
   "source": [
    "# generating time series data\n",
    "import pandas as pd\n",
    "import numpy as np\n",
    "seed=2016\n",
    "np.random.seed(seed)\n",
    "y_0 = 1\n",
    "alpha = -0.25\n",
    "beta = 0.95\n",
    "z=pd.Series(y_0)\n",
    "num = 100\n",
    "for i in range(num):\n",
    "    y_t=alpha+ (beta*y_0)+np.random.uniform(-1,1)\n",
    "    z =z.set_value(i,y_t)\n",
    "    y_0 = y_t"
   ]
  },
  {
   "cell_type": "code",
   "execution_count": 18,
   "metadata": {},
   "outputs": [
    {
     "name": "stdout",
     "output_type": "stream",
     "text": [
      " Values of y are: \n",
      " 0     1.000000\n",
      "1     1.629219\n",
      "2     1.864309\n",
      "3     2.004397\n",
      "4     1.578358\n",
      "5     1.534571\n",
      "6     0.657570\n",
      "7     0.791785\n",
      "8     0.996448\n",
      "9     0.946840\n",
      "10    0.809411\n",
      "11    0.004221\n",
      "12   -0.982077\n",
      "13   -1.895076\n",
      "14   -1.843046\n",
      "15   -1.823312\n",
      "16   -2.843452\n",
      "17   -2.065622\n",
      "18   -2.467143\n",
      "19   -2.689807\n",
      "20   -2.903634\n",
      "21   -3.942228\n",
      "22   -4.656269\n",
      "23   -5.313146\n",
      "24   -5.591997\n",
      "25   -5.876785\n",
      "26   -6.277669\n",
      "27   -6.462227\n",
      "28   -5.759272\n",
      "29   -5.961791\n",
      "        ...   \n",
      "70   -6.357603\n",
      "71   -5.659073\n",
      "72   -6.261296\n",
      "73   -5.685675\n",
      "74   -6.031726\n",
      "75   -6.571723\n",
      "76   -5.817586\n",
      "77   -6.130924\n",
      "78   -6.572723\n",
      "79   -6.514037\n",
      "80   -7.163323\n",
      "81   -6.077306\n",
      "82   -5.607572\n",
      "83   -6.253957\n",
      "84   -7.177834\n",
      "85   -7.164258\n",
      "86   -7.767617\n",
      "87   -7.163709\n",
      "88   -7.569701\n",
      "89   -7.918054\n",
      "90   -7.545504\n",
      "91   -7.434854\n",
      "92   -7.971069\n",
      "93   -8.409314\n",
      "94   -9.130504\n",
      "95   -9.391926\n",
      "96   -8.266783\n",
      "97   -8.563274\n",
      "98   -8.931612\n",
      "99   -9.473611\n",
      "Length: 100, dtype: float64\n"
     ]
    },
    {
     "data": {
      "image/png": "[encoded data removed]",
      "text/plain": [
       "<Figure size 432x288 with 1 Axes>"
      ]
     },
     "metadata": {},
     "output_type": "display_data"
    }
   ],
   "source": [
    "#View the Simulated Time Series\n",
    "print (\" Values of y are: \\n\",z)\n",
    "import matplotlib.pyplot as plt\n",
    "plt.plot(z,'blue', linewidth=1.0)\n",
    "plt.ylabel(\"time\")\n",
    "\n",
    "#plt.plot(z ,'bs', linewidth=1.0)\n",
    "#plt.plot(z ,'g^', linewidth=1.0)\n",
    "plt.show()"
   ]
  },
  {
   "cell_type": "code",
   "execution_count": 12,
   "metadata": {},
   "outputs": [
    {
     "name": "stdout",
     "output_type": "stream",
     "text": [
      "6    0.657570\n",
      "7    0.791785\n",
      "9    0.946840\n",
      "8    0.996448\n",
      "0    1.000000\n",
      "5    1.534571\n",
      "4    1.578358\n",
      "1    1.629219\n",
      "2    1.864309\n",
      "3    2.004397\n",
      "dtype: float64\n"
     ]
    }
   ],
   "source": [
    "print(y.sort_values())"
   ]
  },
  {
   "cell_type": "code",
   "execution_count": 15,
   "metadata": {},
   "outputs": [
    {
     "data": {
      "image/png": "[encoded data removed]",
      "text/plain": [
       "<Figure size 432x288 with 1 Axes>"
      ]
     },
     "metadata": {},
     "output_type": "display_data"
    }
   ],
   "source": [
    "plt.plot(y.sort_values(),'blue', linewidth=1.0)\n",
    "plt.xlabel('time')\n",
    "plt.ylabel('yt')\n",
    "plt.title('sorted time series data')\n",
    "plt.show()"
   ]
  },
  {
   "cell_type": "code",
   "execution_count": null,
   "metadata": {},
   "outputs": [],
   "source": []
  }
 ],
 "metadata": {
  "kernelspec": {
   "display_name": "Python 3",
   "language": "python",
   "name": "python3"
  },
  "language_info": {
   "codemirror_mode": {
    "name": "ipython",
    "version": 3
   },
   "file_extension": ".py",
   "mimetype": "text/x-python",
   "name": "python",
   "nbconvert_exporter": "python",
   "pygments_lexer": "ipython3",
   "version": "3.6.5"
  }
 },
 "nbformat": 4,
 "nbformat_minor": 2
}
